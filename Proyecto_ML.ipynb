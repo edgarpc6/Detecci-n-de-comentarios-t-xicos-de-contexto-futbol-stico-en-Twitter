{
 "cells": [
  {
   "cell_type": "markdown",
   "id": "fadb4282",
   "metadata": {},
   "source": [
    "# Detección de comentarios tóxicos de contexto futbolístico en Twitter\n",
    "\n",
    "#### Estudiantes\n",
    "\n",
    "* Edgar Piña Cuentas\n",
    "* Fernando Andres Gomez Gonzalez"
   ]
  },
  {
   "cell_type": "markdown",
   "id": "571b0c9c",
   "metadata": {},
   "source": [
    "**Pregunta de investigación**\n",
    "\n",
    "* ¿Es posible identificar la toxicidad en las opiniones de los usuarios de Twitter en español sobre el futbol?\n",
    "\n",
    "**Hipótesis**\n",
    "\n",
    "* Las opiniones toxicas en torno al futbol de los usuarios de Twitter en español suelen tener elementos característicos que hacen posible su identificación por medio de un modelo de Machine Learning\n"
   ]
  },
  {
   "cell_type": "markdown",
   "id": "287110b3",
   "metadata": {},
   "source": [
    "# Librerias"
   ]
  },
  {
   "cell_type": "code",
   "execution_count": 1488,
   "id": "d065dfaf",
   "metadata": {},
   "outputs": [],
   "source": [
    "import io\n",
    "import sys\n",
    "PATH = \"./Datos/\"\n",
    "sys.path.append(PATH) if PATH not in list(sys.path) else None\n",
    "import json\n",
    "import codecs\n",
    "import pandas as pd\n",
    "import seaborn as sns\n",
    "import numpy as np\n",
    "\n",
    "# Visualización - Graficas\n",
    "import matplotlib.pyplot as plt\n",
    "import missingno as msno\n",
    "\n",
    "#Procesamiento de datos\n",
    "from sklearn import preprocessing\n",
    "from sklearn.feature_extraction.text import TfidfVectorizer\n",
    "from sklearn.feature_extraction.text import CountVectorizer\n",
    "from sklearn.pipeline import FeatureUnion\n",
    "\n",
    "#Modelos\n",
    "from sklearn import svm\n",
    "from sklearn.linear_model import LogisticRegression\n",
    "\n",
    "#Metricas\n",
    "from sklearn.metrics import confusion_matrix\n",
    "from sklearn.metrics import classification_report\n",
    "from sklearn.metrics import f1_score,accuracy_score,roc_curve,roc_auc_score\n",
    "\n",
    "\n",
    "from text_processing import TextProcessing as tp"
   ]
  },
  {
   "cell_type": "markdown",
   "id": "337e63d0",
   "metadata": {},
   "source": [
    "# Contenido del Dataset\n",
    "\n",
    "#### El dataset (copus) esta formado por:\n",
    "\n",
    "* **id**: Numero de identificaion del tweet\n",
    "* **lang**: Lenguaje del tweet\n",
    "* **text**: Contenido del tweet\n",
    "* **user_mentions**: Número de usuarios mencionados en el tweet\n",
    "* **polaridad**: Indica que tipo de emocion se expresa en el tweet"
   ]
  },
  {
   "cell_type": "markdown",
   "id": "973a20e0",
   "metadata": {},
   "source": [
    "# Lectura de Datos"
   ]
  },
  {
   "cell_type": "code",
   "execution_count": 1490,
   "id": "7f010925",
   "metadata": {},
   "outputs": [
    {
     "data": {
      "text/html": [
       "<div>\n",
       "<style scoped>\n",
       "    .dataframe tbody tr th:only-of-type {\n",
       "        vertical-align: middle;\n",
       "    }\n",
       "\n",
       "    .dataframe tbody tr th {\n",
       "        vertical-align: top;\n",
       "    }\n",
       "\n",
       "    .dataframe thead th {\n",
       "        text-align: right;\n",
       "    }\n",
       "</style>\n",
       "<table border=\"1\" class=\"dataframe\">\n",
       "  <thead>\n",
       "    <tr style=\"text-align: right;\">\n",
       "      <th></th>\n",
       "      <th>id</th>\n",
       "      <th>lang</th>\n",
       "      <th>text</th>\n",
       "      <th>user_mentions</th>\n",
       "      <th>polaridad</th>\n",
       "    </tr>\n",
       "  </thead>\n",
       "  <tbody>\n",
       "    <tr>\n",
       "      <th>0</th>\n",
       "      <td>1438611805794979800</td>\n",
       "      <td>es</td>\n",
       "      <td>#Futbol #Corrientes: En Mercedes no le permite...</td>\n",
       "      <td>0</td>\n",
       "      <td>toxico</td>\n",
       "    </tr>\n",
       "    <tr>\n",
       "      <th>1</th>\n",
       "      <td>1438611790535921700</td>\n",
       "      <td>es</td>\n",
       "      <td>Renovación más cerca: reunión entre Mendes y e...</td>\n",
       "      <td>0</td>\n",
       "      <td>normal</td>\n",
       "    </tr>\n",
       "    <tr>\n",
       "      <th>2</th>\n",
       "      <td>1438611787092570000</td>\n",
       "      <td>es</td>\n",
       "      <td>Inazuma va de futbol y los nazis jugaban al fu...</td>\n",
       "      <td>0</td>\n",
       "      <td>toxico</td>\n",
       "    </tr>\n",
       "    <tr>\n",
       "      <th>3</th>\n",
       "      <td>1438611775830777900</td>\n",
       "      <td>es</td>\n",
       "      <td>Que manija tengo de ver en vivo al fútbol cham...</td>\n",
       "      <td>0</td>\n",
       "      <td>normal</td>\n",
       "    </tr>\n",
       "    <tr>\n",
       "      <th>4</th>\n",
       "      <td>1438611707174215700</td>\n",
       "      <td>es</td>\n",
       "      <td>SE VE HETERO FUTBOL FUTBOK FUTBOL SIEMPRE FUTBOL</td>\n",
       "      <td>0</td>\n",
       "      <td>toxico</td>\n",
       "    </tr>\n",
       "    <tr>\n",
       "      <th>...</th>\n",
       "      <td>...</td>\n",
       "      <td>...</td>\n",
       "      <td>...</td>\n",
       "      <td>...</td>\n",
       "      <td>...</td>\n",
       "    </tr>\n",
       "    <tr>\n",
       "      <th>395</th>\n",
       "      <td>1463716939931476000</td>\n",
       "      <td>es</td>\n",
       "      <td>@SC_ESPN Jajajaja jajajaja jajajaja jajajaja c...</td>\n",
       "      <td>1</td>\n",
       "      <td>toxico</td>\n",
       "    </tr>\n",
       "    <tr>\n",
       "      <th>396</th>\n",
       "      <td>1463625816684712000</td>\n",
       "      <td>es</td>\n",
       "      <td>Barcelona, Dortmund, Atlético Madrid... la Eur...</td>\n",
       "      <td>0</td>\n",
       "      <td>toxico</td>\n",
       "    </tr>\n",
       "    <tr>\n",
       "      <th>397</th>\n",
       "      <td>1463721737024061400</td>\n",
       "      <td>es</td>\n",
       "      <td>@AtleticoCuba Ysuerte contra barca en la Europ...</td>\n",
       "      <td>1</td>\n",
       "      <td>toxico</td>\n",
       "    </tr>\n",
       "    <tr>\n",
       "      <th>398</th>\n",
       "      <td>1463722226340053000</td>\n",
       "      <td>es</td>\n",
       "      <td>@BlxckNews Es obvio lo que sienten, en su mejo...</td>\n",
       "      <td>1</td>\n",
       "      <td>toxico</td>\n",
       "    </tr>\n",
       "    <tr>\n",
       "      <th>399</th>\n",
       "      <td>1463610507378765800</td>\n",
       "      <td>es</td>\n",
       "      <td>Quiero un Sheriff-Barça en la Europa League.</td>\n",
       "      <td>0</td>\n",
       "      <td>toxico</td>\n",
       "    </tr>\n",
       "  </tbody>\n",
       "</table>\n",
       "<p>400 rows × 5 columns</p>\n",
       "</div>"
      ],
      "text/plain": [
       "                      id lang  \\\n",
       "0    1438611805794979800   es   \n",
       "1    1438611790535921700   es   \n",
       "2    1438611787092570000   es   \n",
       "3    1438611775830777900   es   \n",
       "4    1438611707174215700   es   \n",
       "..                   ...  ...   \n",
       "395  1463716939931476000   es   \n",
       "396  1463625816684712000   es   \n",
       "397  1463721737024061400   es   \n",
       "398  1463722226340053000   es   \n",
       "399  1463610507378765800   es   \n",
       "\n",
       "                                                  text  user_mentions  \\\n",
       "0    #Futbol #Corrientes: En Mercedes no le permite...              0   \n",
       "1    Renovación más cerca: reunión entre Mendes y e...              0   \n",
       "2    Inazuma va de futbol y los nazis jugaban al fu...              0   \n",
       "3    Que manija tengo de ver en vivo al fútbol cham...              0   \n",
       "4     SE VE HETERO FUTBOL FUTBOK FUTBOL SIEMPRE FUTBOL              0   \n",
       "..                                                 ...            ...   \n",
       "395  @SC_ESPN Jajajaja jajajaja jajajaja jajajaja c...              1   \n",
       "396  Barcelona, Dortmund, Atlético Madrid... la Eur...              0   \n",
       "397  @AtleticoCuba Ysuerte contra barca en la Europ...              1   \n",
       "398  @BlxckNews Es obvio lo que sienten, en su mejo...              1   \n",
       "399       Quiero un Sheriff-Barça en la Europa League.              0   \n",
       "\n",
       "    polaridad  \n",
       "0      toxico  \n",
       "1      normal  \n",
       "2      toxico  \n",
       "3      normal  \n",
       "4      toxico  \n",
       "..        ...  \n",
       "395    toxico  \n",
       "396    toxico  \n",
       "397    toxico  \n",
       "398    toxico  \n",
       "399    toxico  \n",
       "\n",
       "[400 rows x 5 columns]"
      ]
     },
     "execution_count": 1490,
     "metadata": {},
     "output_type": "execute_result"
    }
   ],
   "source": [
    "data=json.load(codecs.open(PATH + 'data.json', 'r', 'utf-8-sig'))\n",
    "df = pd.json_normalize(data['tweets'])\n",
    "#df=pd.DataFrame(data, )\n",
    "df"
   ]
  },
  {
   "cell_type": "markdown",
   "id": "82e1d316",
   "metadata": {},
   "source": [
    "## Analisis de Datos"
   ]
  },
  {
   "cell_type": "code",
   "execution_count": 1491,
   "id": "d5057779",
   "metadata": {},
   "outputs": [
    {
     "name": "stdout",
     "output_type": "stream",
     "text": [
      "<class 'pandas.core.frame.DataFrame'>\n",
      "RangeIndex: 400 entries, 0 to 399\n",
      "Data columns (total 5 columns):\n",
      " #   Column         Non-Null Count  Dtype \n",
      "---  ------         --------------  ----- \n",
      " 0   id             400 non-null    int64 \n",
      " 1   lang           400 non-null    object\n",
      " 2   text           400 non-null    object\n",
      " 3   user_mentions  400 non-null    int64 \n",
      " 4   polaridad      400 non-null    object\n",
      "dtypes: int64(2), object(3)\n",
      "memory usage: 15.8+ KB\n"
     ]
    }
   ],
   "source": [
    "df.info()"
   ]
  },
  {
   "cell_type": "markdown",
   "id": "4424270e",
   "metadata": {},
   "source": [
    "### Identificion de Datos Nulos"
   ]
  },
  {
   "cell_type": "code",
   "execution_count": 1492,
   "id": "215c0bc2",
   "metadata": {},
   "outputs": [
    {
     "data": {
      "image/png": "[encoded data removed]",
      "text/plain": [
       "<Figure size 1800x720 with 3 Axes>"
      ]
     },
     "metadata": {
      "needs_background": "light"
     },
     "output_type": "display_data"
    }
   ],
   "source": [
    "## Analisis de valores nulos\n",
    "p = msno.bar(df)"
   ]
  },
  {
   "cell_type": "markdown",
   "id": "9e970b3a",
   "metadata": {},
   "source": [
    "### Identificacion de datos repetidos"
   ]
  },
  {
   "cell_type": "code",
   "execution_count": 1493,
   "id": "fbe50ff6",
   "metadata": {},
   "outputs": [
    {
     "name": "stdout",
     "output_type": "stream",
     "text": [
      "Hay 0 datos repetidos.\n"
     ]
    }
   ],
   "source": [
    "#Verificar filas duplicadas\n",
    "y=0\n",
    "b=0\n",
    "for i in df['text'].duplicated():\n",
    "    if i==True:\n",
    "        y+=1\n",
    "        print(b)\n",
    "    b+=1\n",
    "print(\"Hay\",y, \"datos repetidos.\")"
   ]
  },
  {
   "cell_type": "markdown",
   "id": "64d0f3a0",
   "metadata": {},
   "source": [
    "### Conteo de valores objetivo"
   ]
  },
  {
   "cell_type": "code",
   "execution_count": 1494,
   "id": "f956ed9a",
   "metadata": {},
   "outputs": [
    {
     "data": {
      "text/html": [
       "<div>\n",
       "<style scoped>\n",
       "    .dataframe tbody tr th:only-of-type {\n",
       "        vertical-align: middle;\n",
       "    }\n",
       "\n",
       "    .dataframe tbody tr th {\n",
       "        vertical-align: top;\n",
       "    }\n",
       "\n",
       "    .dataframe thead th {\n",
       "        text-align: right;\n",
       "    }\n",
       "</style>\n",
       "<table border=\"1\" class=\"dataframe\">\n",
       "  <thead>\n",
       "    <tr style=\"text-align: right;\">\n",
       "      <th></th>\n",
       "      <th>polaridad</th>\n",
       "      <th>text</th>\n",
       "    </tr>\n",
       "  </thead>\n",
       "  <tbody>\n",
       "    <tr>\n",
       "      <th>0</th>\n",
       "      <td>normal</td>\n",
       "      <td>200</td>\n",
       "    </tr>\n",
       "    <tr>\n",
       "      <th>1</th>\n",
       "      <td>toxico</td>\n",
       "      <td>200</td>\n",
       "    </tr>\n",
       "  </tbody>\n",
       "</table>\n",
       "</div>"
      ],
      "text/plain": [
       "  polaridad  text\n",
       "0    normal   200\n",
       "1    toxico   200"
      ]
     },
     "execution_count": 1494,
     "metadata": {},
     "output_type": "execute_result"
    }
   ],
   "source": [
    "#Conteo de tweets por partido\n",
    "tweet_by_class = df.groupby(\"polaridad\", as_index=False)['text'].count()\n",
    "tweet_by_class"
   ]
  },
  {
   "cell_type": "markdown",
   "id": "70f5f554",
   "metadata": {},
   "source": [
    "### Frecuencia de las clases objetivo "
   ]
  },
  {
   "cell_type": "code",
   "execution_count": 1495,
   "id": "66bba325",
   "metadata": {},
   "outputs": [
    {
     "name": "stderr",
     "output_type": "stream",
     "text": [
      "C:\\Users\\black\\anaconda3\\lib\\site-packages\\seaborn\\_decorators.py:36: FutureWarning: Pass the following variables as keyword args: x, y. From version 0.12, the only valid positional argument will be `data`, and passing other arguments without an explicit keyword will result in an error or misinterpretation.\n",
      "  warnings.warn(\n"
     ]
    },
    {
     "data": {
      "image/png": "[encoded data removed]",
      "text/plain": [
       "<Figure size 1080x360 with 1 Axes>"
      ]
     },
     "metadata": {
      "needs_background": "light"
     },
     "output_type": "display_data"
    }
   ],
   "source": [
    "#Frecuencia de clases\n",
    "plt.figure(figsize=(15,5))\n",
    "sns.barplot(tweet_by_class['polaridad'].values, tweet_by_class['text'].values, alpha=0.8)\n",
    "plt.title('Class Frequency by tweet')\n",
    "plt.ylabel('tweet', fontsize=10)\n",
    "plt.xlabel('partido', fontsize=10)\n",
    "plt.show()"
   ]
  },
  {
   "cell_type": "code",
   "execution_count": 1496,
   "id": "726dc432",
   "metadata": {},
   "outputs": [
    {
     "data": {
      "image/png": "[encoded data removed]",
      "text/plain": [
       "<Figure size 432x288 with 1 Axes>"
      ]
     },
     "metadata": {
      "needs_background": "light"
     },
     "output_type": "display_data"
    }
   ],
   "source": [
    "## distribución y balance en el tipo de datos\n",
    "df_scrubbed = df.copy(deep = True)\n",
    "sns.countplot(y=df_scrubbed.dtypes.map(str))\n",
    "plt.xlabel(\"cantidad\")\n",
    "plt.ylabel(\"tipo de dato\")\n",
    "plt.show()"
   ]
  },
  {
   "cell_type": "markdown",
   "id": "6637b3af",
   "metadata": {},
   "source": [
    "# Tratamiento de datos"
   ]
  },
  {
   "cell_type": "markdown",
   "id": "c3d3bd18",
   "metadata": {},
   "source": [
    "## Label encoding para la variable objetivo\n",
    "\n",
    "* Normal: 0\n",
    "* Toxico: 1"
   ]
  },
  {
   "cell_type": "code",
   "execution_count": 1497,
   "id": "545dab9f",
   "metadata": {},
   "outputs": [
    {
     "data": {
      "text/html": [
       "<div>\n",
       "<style scoped>\n",
       "    .dataframe tbody tr th:only-of-type {\n",
       "        vertical-align: middle;\n",
       "    }\n",
       "\n",
       "    .dataframe tbody tr th {\n",
       "        vertical-align: top;\n",
       "    }\n",
       "\n",
       "    .dataframe thead th {\n",
       "        text-align: right;\n",
       "    }\n",
       "</style>\n",
       "<table border=\"1\" class=\"dataframe\">\n",
       "  <thead>\n",
       "    <tr style=\"text-align: right;\">\n",
       "      <th></th>\n",
       "      <th>id</th>\n",
       "      <th>lang</th>\n",
       "      <th>text</th>\n",
       "      <th>user_mentions</th>\n",
       "      <th>polaridad</th>\n",
       "    </tr>\n",
       "  </thead>\n",
       "  <tbody>\n",
       "    <tr>\n",
       "      <th>0</th>\n",
       "      <td>1438611805794979800</td>\n",
       "      <td>es</td>\n",
       "      <td>#Futbol #Corrientes: En Mercedes no le permite...</td>\n",
       "      <td>0</td>\n",
       "      <td>1</td>\n",
       "    </tr>\n",
       "    <tr>\n",
       "      <th>1</th>\n",
       "      <td>1438611790535921700</td>\n",
       "      <td>es</td>\n",
       "      <td>Renovación más cerca: reunión entre Mendes y e...</td>\n",
       "      <td>0</td>\n",
       "      <td>0</td>\n",
       "    </tr>\n",
       "    <tr>\n",
       "      <th>2</th>\n",
       "      <td>1438611787092570000</td>\n",
       "      <td>es</td>\n",
       "      <td>Inazuma va de futbol y los nazis jugaban al fu...</td>\n",
       "      <td>0</td>\n",
       "      <td>1</td>\n",
       "    </tr>\n",
       "    <tr>\n",
       "      <th>3</th>\n",
       "      <td>1438611775830777900</td>\n",
       "      <td>es</td>\n",
       "      <td>Que manija tengo de ver en vivo al fútbol cham...</td>\n",
       "      <td>0</td>\n",
       "      <td>0</td>\n",
       "    </tr>\n",
       "    <tr>\n",
       "      <th>4</th>\n",
       "      <td>1438611707174215700</td>\n",
       "      <td>es</td>\n",
       "      <td>SE VE HETERO FUTBOL FUTBOK FUTBOL SIEMPRE FUTBOL</td>\n",
       "      <td>0</td>\n",
       "      <td>1</td>\n",
       "    </tr>\n",
       "    <tr>\n",
       "      <th>...</th>\n",
       "      <td>...</td>\n",
       "      <td>...</td>\n",
       "      <td>...</td>\n",
       "      <td>...</td>\n",
       "      <td>...</td>\n",
       "    </tr>\n",
       "    <tr>\n",
       "      <th>395</th>\n",
       "      <td>1463716939931476000</td>\n",
       "      <td>es</td>\n",
       "      <td>@SC_ESPN Jajajaja jajajaja jajajaja jajajaja c...</td>\n",
       "      <td>1</td>\n",
       "      <td>1</td>\n",
       "    </tr>\n",
       "    <tr>\n",
       "      <th>396</th>\n",
       "      <td>1463625816684712000</td>\n",
       "      <td>es</td>\n",
       "      <td>Barcelona, Dortmund, Atlético Madrid... la Eur...</td>\n",
       "      <td>0</td>\n",
       "      <td>1</td>\n",
       "    </tr>\n",
       "    <tr>\n",
       "      <th>397</th>\n",
       "      <td>1463721737024061400</td>\n",
       "      <td>es</td>\n",
       "      <td>@AtleticoCuba Ysuerte contra barca en la Europ...</td>\n",
       "      <td>1</td>\n",
       "      <td>1</td>\n",
       "    </tr>\n",
       "    <tr>\n",
       "      <th>398</th>\n",
       "      <td>1463722226340053000</td>\n",
       "      <td>es</td>\n",
       "      <td>@BlxckNews Es obvio lo que sienten, en su mejo...</td>\n",
       "      <td>1</td>\n",
       "      <td>1</td>\n",
       "    </tr>\n",
       "    <tr>\n",
       "      <th>399</th>\n",
       "      <td>1463610507378765800</td>\n",
       "      <td>es</td>\n",
       "      <td>Quiero un Sheriff-Barça en la Europa League.</td>\n",
       "      <td>0</td>\n",
       "      <td>1</td>\n",
       "    </tr>\n",
       "  </tbody>\n",
       "</table>\n",
       "<p>400 rows × 5 columns</p>\n",
       "</div>"
      ],
      "text/plain": [
       "                      id lang  \\\n",
       "0    1438611805794979800   es   \n",
       "1    1438611790535921700   es   \n",
       "2    1438611787092570000   es   \n",
       "3    1438611775830777900   es   \n",
       "4    1438611707174215700   es   \n",
       "..                   ...  ...   \n",
       "395  1463716939931476000   es   \n",
       "396  1463625816684712000   es   \n",
       "397  1463721737024061400   es   \n",
       "398  1463722226340053000   es   \n",
       "399  1463610507378765800   es   \n",
       "\n",
       "                                                  text  user_mentions  \\\n",
       "0    #Futbol #Corrientes: En Mercedes no le permite...              0   \n",
       "1    Renovación más cerca: reunión entre Mendes y e...              0   \n",
       "2    Inazuma va de futbol y los nazis jugaban al fu...              0   \n",
       "3    Que manija tengo de ver en vivo al fútbol cham...              0   \n",
       "4     SE VE HETERO FUTBOL FUTBOK FUTBOL SIEMPRE FUTBOL              0   \n",
       "..                                                 ...            ...   \n",
       "395  @SC_ESPN Jajajaja jajajaja jajajaja jajajaja c...              1   \n",
       "396  Barcelona, Dortmund, Atlético Madrid... la Eur...              0   \n",
       "397  @AtleticoCuba Ysuerte contra barca en la Europ...              1   \n",
       "398  @BlxckNews Es obvio lo que sienten, en su mejo...              1   \n",
       "399       Quiero un Sheriff-Barça en la Europa League.              0   \n",
       "\n",
       "     polaridad  \n",
       "0            1  \n",
       "1            0  \n",
       "2            1  \n",
       "3            0  \n",
       "4            1  \n",
       "..         ...  \n",
       "395          1  \n",
       "396          1  \n",
       "397          1  \n",
       "398          1  \n",
       "399          1  \n",
       "\n",
       "[400 rows x 5 columns]"
      ]
     },
     "execution_count": 1497,
     "metadata": {},
     "output_type": "execute_result"
    }
   ],
   "source": [
    "#Label enconding para variable objetivo\n",
    "#1-Toxico\n",
    "#0-Normal\n",
    "my_label = preprocessing.LabelEncoder()   \n",
    "df['polaridad']=my_label.fit_transform(df['polaridad'])   \n",
    "df"
   ]
  },
  {
   "cell_type": "markdown",
   "id": "69f72bc9",
   "metadata": {},
   "source": [
    "## Separacion de datos en entrenamimento y prueba\n",
    "(Proporcion de 70-30)"
   ]
  },
  {
   "cell_type": "code",
   "execution_count": 1498,
   "id": "733f3d5b",
   "metadata": {},
   "outputs": [],
   "source": [
    "test = pd.DataFrame()\n",
    "train = df\n",
    "size = round(round(df.shape[0]*0.5)/5)\n",
    "for typ in list(df['polaridad'].dropna().unique()):\n",
    "    samples = df[df['polaridad'] == typ].sample(size)\n",
    "    test = test.append(samples)\n",
    "    train = train.drop(samples.index)\n",
    "test = test.reset_index()\n",
    "train = train.reset_index()"
   ]
  },
  {
   "cell_type": "markdown",
   "id": "4d179d7c",
   "metadata": {},
   "source": [
    "### Dataset de prueba"
   ]
  },
  {
   "cell_type": "code",
   "execution_count": 1499,
   "id": "fceaef09",
   "metadata": {},
   "outputs": [
    {
     "data": {
      "text/html": [
       "<div>\n",
       "<style scoped>\n",
       "    .dataframe tbody tr th:only-of-type {\n",
       "        vertical-align: middle;\n",
       "    }\n",
       "\n",
       "    .dataframe tbody tr th {\n",
       "        vertical-align: top;\n",
       "    }\n",
       "\n",
       "    .dataframe thead th {\n",
       "        text-align: right;\n",
       "    }\n",
       "</style>\n",
       "<table border=\"1\" class=\"dataframe\">\n",
       "  <thead>\n",
       "    <tr style=\"text-align: right;\">\n",
       "      <th></th>\n",
       "      <th>id</th>\n",
       "      <th>lang</th>\n",
       "      <th>text</th>\n",
       "      <th>user_mentions</th>\n",
       "      <th>polaridad</th>\n",
       "    </tr>\n",
       "  </thead>\n",
       "  <tbody>\n",
       "    <tr>\n",
       "      <th>0</th>\n",
       "      <td>1463216898674409477</td>\n",
       "      <td>es</td>\n",
       "      <td>Decir que obtuvieron el mejor resultado en 17 ...</td>\n",
       "      <td>0</td>\n",
       "      <td>1</td>\n",
       "    </tr>\n",
       "    <tr>\n",
       "      <th>1</th>\n",
       "      <td>1463378680432889860</td>\n",
       "      <td>es</td>\n",
       "      <td>Sumado a que manejan como el reverendo ojete y...</td>\n",
       "      <td>0</td>\n",
       "      <td>1</td>\n",
       "    </tr>\n",
       "    <tr>\n",
       "      <th>2</th>\n",
       "      <td>1462883763940040705</td>\n",
       "      <td>es</td>\n",
       "      <td>@kike_mateu @cvenco Pero tus calumnias siempre...</td>\n",
       "      <td>2</td>\n",
       "      <td>1</td>\n",
       "    </tr>\n",
       "    <tr>\n",
       "      <th>3</th>\n",
       "      <td>1462887060868636675</td>\n",
       "      <td>es</td>\n",
       "      <td>@jesuscardozo_ @Doctor_Futbol Llevan llorando ...</td>\n",
       "      <td>2</td>\n",
       "      <td>1</td>\n",
       "    </tr>\n",
       "    <tr>\n",
       "      <th>4</th>\n",
       "      <td>1462883504723828739</td>\n",
       "      <td>es</td>\n",
       "      <td>@aleziito17 @CuartelB Ósea nunca van a ir al e...</td>\n",
       "      <td>2</td>\n",
       "      <td>1</td>\n",
       "    </tr>\n",
       "    <tr>\n",
       "      <th>...</th>\n",
       "      <td>...</td>\n",
       "      <td>...</td>\n",
       "      <td>...</td>\n",
       "      <td>...</td>\n",
       "      <td>...</td>\n",
       "    </tr>\n",
       "    <tr>\n",
       "      <th>75</th>\n",
       "      <td>1463709572342947800</td>\n",
       "      <td>es</td>\n",
       "      <td>@Kruyffixz_ @GxlDeIlias @GaspxJosip Pues es q ...</td>\n",
       "      <td>3</td>\n",
       "      <td>0</td>\n",
       "    </tr>\n",
       "    <tr>\n",
       "      <th>76</th>\n",
       "      <td>1462969353528246272</td>\n",
       "      <td>es</td>\n",
       "      <td>que hace el juez de línea jajdjdhsja???</td>\n",
       "      <td>0</td>\n",
       "      <td>0</td>\n",
       "    </tr>\n",
       "    <tr>\n",
       "      <th>77</th>\n",
       "      <td>1463246794024968198</td>\n",
       "      <td>es</td>\n",
       "      <td>Quiero ver la IMAGEN en la que sale el balón. ...</td>\n",
       "      <td>0</td>\n",
       "      <td>0</td>\n",
       "    </tr>\n",
       "    <tr>\n",
       "      <th>78</th>\n",
       "      <td>1462809630145351690</td>\n",
       "      <td>es</td>\n",
       "      <td>Todo el futbol Argentino quiere que hoy ascien...</td>\n",
       "      <td>0</td>\n",
       "      <td>0</td>\n",
       "    </tr>\n",
       "    <tr>\n",
       "      <th>79</th>\n",
       "      <td>1438611563624243200</td>\n",
       "      <td>es</td>\n",
       "      <td>Ya se volvieron todos locos, según van muy bie...</td>\n",
       "      <td>1</td>\n",
       "      <td>0</td>\n",
       "    </tr>\n",
       "  </tbody>\n",
       "</table>\n",
       "<p>80 rows × 5 columns</p>\n",
       "</div>"
      ],
      "text/plain": [
       "                     id lang  \\\n",
       "0   1463216898674409477   es   \n",
       "1   1463378680432889860   es   \n",
       "2   1462883763940040705   es   \n",
       "3   1462887060868636675   es   \n",
       "4   1462883504723828739   es   \n",
       "..                  ...  ...   \n",
       "75  1463709572342947800   es   \n",
       "76  1462969353528246272   es   \n",
       "77  1463246794024968198   es   \n",
       "78  1462809630145351690   es   \n",
       "79  1438611563624243200   es   \n",
       "\n",
       "                                                 text  user_mentions  \\\n",
       "0   Decir que obtuvieron el mejor resultado en 17 ...              0   \n",
       "1   Sumado a que manejan como el reverendo ojete y...              0   \n",
       "2   @kike_mateu @cvenco Pero tus calumnias siempre...              2   \n",
       "3   @jesuscardozo_ @Doctor_Futbol Llevan llorando ...              2   \n",
       "4   @aleziito17 @CuartelB Ósea nunca van a ir al e...              2   \n",
       "..                                                ...            ...   \n",
       "75  @Kruyffixz_ @GxlDeIlias @GaspxJosip Pues es q ...              3   \n",
       "76            que hace el juez de línea jajdjdhsja???              0   \n",
       "77  Quiero ver la IMAGEN en la que sale el balón. ...              0   \n",
       "78  Todo el futbol Argentino quiere que hoy ascien...              0   \n",
       "79  Ya se volvieron todos locos, según van muy bie...              1   \n",
       "\n",
       "    polaridad  \n",
       "0           1  \n",
       "1           1  \n",
       "2           1  \n",
       "3           1  \n",
       "4           1  \n",
       "..        ...  \n",
       "75          0  \n",
       "76          0  \n",
       "77          0  \n",
       "78          0  \n",
       "79          0  \n",
       "\n",
       "[80 rows x 5 columns]"
      ]
     },
     "execution_count": 1499,
     "metadata": {},
     "output_type": "execute_result"
    }
   ],
   "source": [
    "del test[\"index\"]\n",
    "test"
   ]
  },
  {
   "cell_type": "code",
   "execution_count": 1500,
   "id": "b656d42b",
   "metadata": {},
   "outputs": [
    {
     "name": "stderr",
     "output_type": "stream",
     "text": [
      "C:\\Users\\black\\anaconda3\\lib\\site-packages\\seaborn\\_decorators.py:36: FutureWarning: Pass the following variables as keyword args: x, y. From version 0.12, the only valid positional argument will be `data`, and passing other arguments without an explicit keyword will result in an error or misinterpretation.\n",
      "  warnings.warn(\n"
     ]
    },
    {
     "data": {
      "image/png": "[encoded data removed]",
      "text/plain": [
       "<Figure size 1080x360 with 1 Axes>"
      ]
     },
     "metadata": {
      "needs_background": "light"
     },
     "output_type": "display_data"
    }
   ],
   "source": [
    "tweet_by_class_test = test.groupby(\"polaridad\", as_index=False)['text'].count()\n",
    "\n",
    "plt.figure(figsize=(15,5))\n",
    "sns.barplot(tweet_by_class_test['polaridad'].values, tweet_by_class_test['text'].values, alpha=0.8)\n",
    "plt.title('Class Frequency by tweet for test')\n",
    "plt.ylabel('text', fontsize=10)\n",
    "plt.xlabel('polaridad', fontsize=10)\n",
    "plt.show()"
   ]
  },
  {
   "cell_type": "markdown",
   "id": "71deefa2",
   "metadata": {},
   "source": [
    "### Dataset de entrenamiento"
   ]
  },
  {
   "cell_type": "code",
   "execution_count": 1501,
   "id": "4c6462b0",
   "metadata": {},
   "outputs": [
    {
     "data": {
      "text/html": [
       "<div>\n",
       "<style scoped>\n",
       "    .dataframe tbody tr th:only-of-type {\n",
       "        vertical-align: middle;\n",
       "    }\n",
       "\n",
       "    .dataframe tbody tr th {\n",
       "        vertical-align: top;\n",
       "    }\n",
       "\n",
       "    .dataframe thead th {\n",
       "        text-align: right;\n",
       "    }\n",
       "</style>\n",
       "<table border=\"1\" class=\"dataframe\">\n",
       "  <thead>\n",
       "    <tr style=\"text-align: right;\">\n",
       "      <th></th>\n",
       "      <th>id</th>\n",
       "      <th>lang</th>\n",
       "      <th>text</th>\n",
       "      <th>user_mentions</th>\n",
       "      <th>polaridad</th>\n",
       "    </tr>\n",
       "  </thead>\n",
       "  <tbody>\n",
       "    <tr>\n",
       "      <th>0</th>\n",
       "      <td>1438611805794979800</td>\n",
       "      <td>es</td>\n",
       "      <td>#Futbol #Corrientes: En Mercedes no le permite...</td>\n",
       "      <td>0</td>\n",
       "      <td>1</td>\n",
       "    </tr>\n",
       "    <tr>\n",
       "      <th>1</th>\n",
       "      <td>1438611790535921700</td>\n",
       "      <td>es</td>\n",
       "      <td>Renovación más cerca: reunión entre Mendes y e...</td>\n",
       "      <td>0</td>\n",
       "      <td>0</td>\n",
       "    </tr>\n",
       "    <tr>\n",
       "      <th>2</th>\n",
       "      <td>1438611787092570000</td>\n",
       "      <td>es</td>\n",
       "      <td>Inazuma va de futbol y los nazis jugaban al fu...</td>\n",
       "      <td>0</td>\n",
       "      <td>1</td>\n",
       "    </tr>\n",
       "    <tr>\n",
       "      <th>3</th>\n",
       "      <td>1438611775830777900</td>\n",
       "      <td>es</td>\n",
       "      <td>Que manija tengo de ver en vivo al fútbol cham...</td>\n",
       "      <td>0</td>\n",
       "      <td>0</td>\n",
       "    </tr>\n",
       "    <tr>\n",
       "      <th>4</th>\n",
       "      <td>1438611707174215700</td>\n",
       "      <td>es</td>\n",
       "      <td>SE VE HETERO FUTBOL FUTBOK FUTBOL SIEMPRE FUTBOL</td>\n",
       "      <td>0</td>\n",
       "      <td>1</td>\n",
       "    </tr>\n",
       "    <tr>\n",
       "      <th>...</th>\n",
       "      <td>...</td>\n",
       "      <td>...</td>\n",
       "      <td>...</td>\n",
       "      <td>...</td>\n",
       "      <td>...</td>\n",
       "    </tr>\n",
       "    <tr>\n",
       "      <th>315</th>\n",
       "      <td>1463717381864308700</td>\n",
       "      <td>es</td>\n",
       "      <td>Lo fans d barza son una vaina. Una lloradera p...</td>\n",
       "      <td>0</td>\n",
       "      <td>1</td>\n",
       "    </tr>\n",
       "    <tr>\n",
       "      <th>316</th>\n",
       "      <td>1463625816684712000</td>\n",
       "      <td>es</td>\n",
       "      <td>Barcelona, Dortmund, Atlético Madrid... la Eur...</td>\n",
       "      <td>0</td>\n",
       "      <td>1</td>\n",
       "    </tr>\n",
       "    <tr>\n",
       "      <th>317</th>\n",
       "      <td>1463721737024061400</td>\n",
       "      <td>es</td>\n",
       "      <td>@AtleticoCuba Ysuerte contra barca en la Europ...</td>\n",
       "      <td>1</td>\n",
       "      <td>1</td>\n",
       "    </tr>\n",
       "    <tr>\n",
       "      <th>318</th>\n",
       "      <td>1463722226340053000</td>\n",
       "      <td>es</td>\n",
       "      <td>@BlxckNews Es obvio lo que sienten, en su mejo...</td>\n",
       "      <td>1</td>\n",
       "      <td>1</td>\n",
       "    </tr>\n",
       "    <tr>\n",
       "      <th>319</th>\n",
       "      <td>1463610507378765800</td>\n",
       "      <td>es</td>\n",
       "      <td>Quiero un Sheriff-Barça en la Europa League.</td>\n",
       "      <td>0</td>\n",
       "      <td>1</td>\n",
       "    </tr>\n",
       "  </tbody>\n",
       "</table>\n",
       "<p>320 rows × 5 columns</p>\n",
       "</div>"
      ],
      "text/plain": [
       "                      id lang  \\\n",
       "0    1438611805794979800   es   \n",
       "1    1438611790535921700   es   \n",
       "2    1438611787092570000   es   \n",
       "3    1438611775830777900   es   \n",
       "4    1438611707174215700   es   \n",
       "..                   ...  ...   \n",
       "315  1463717381864308700   es   \n",
       "316  1463625816684712000   es   \n",
       "317  1463721737024061400   es   \n",
       "318  1463722226340053000   es   \n",
       "319  1463610507378765800   es   \n",
       "\n",
       "                                                  text  user_mentions  \\\n",
       "0    #Futbol #Corrientes: En Mercedes no le permite...              0   \n",
       "1    Renovación más cerca: reunión entre Mendes y e...              0   \n",
       "2    Inazuma va de futbol y los nazis jugaban al fu...              0   \n",
       "3    Que manija tengo de ver en vivo al fútbol cham...              0   \n",
       "4     SE VE HETERO FUTBOL FUTBOK FUTBOL SIEMPRE FUTBOL              0   \n",
       "..                                                 ...            ...   \n",
       "315  Lo fans d barza son una vaina. Una lloradera p...              0   \n",
       "316  Barcelona, Dortmund, Atlético Madrid... la Eur...              0   \n",
       "317  @AtleticoCuba Ysuerte contra barca en la Europ...              1   \n",
       "318  @BlxckNews Es obvio lo que sienten, en su mejo...              1   \n",
       "319       Quiero un Sheriff-Barça en la Europa League.              0   \n",
       "\n",
       "     polaridad  \n",
       "0            1  \n",
       "1            0  \n",
       "2            1  \n",
       "3            0  \n",
       "4            1  \n",
       "..         ...  \n",
       "315          1  \n",
       "316          1  \n",
       "317          1  \n",
       "318          1  \n",
       "319          1  \n",
       "\n",
       "[320 rows x 5 columns]"
      ]
     },
     "execution_count": 1501,
     "metadata": {},
     "output_type": "execute_result"
    }
   ],
   "source": [
    "del train[\"index\"]\n",
    "train"
   ]
  },
  {
   "cell_type": "code",
   "execution_count": 1502,
   "id": "094a49a5",
   "metadata": {},
   "outputs": [
    {
     "name": "stderr",
     "output_type": "stream",
     "text": [
      "C:\\Users\\black\\anaconda3\\lib\\site-packages\\seaborn\\_decorators.py:36: FutureWarning: Pass the following variables as keyword args: x, y. From version 0.12, the only valid positional argument will be `data`, and passing other arguments without an explicit keyword will result in an error or misinterpretation.\n",
      "  warnings.warn(\n"
     ]
    },
    {
     "data": {
      "image/png": "[encoded data removed]",
      "text/plain": [
       "<Figure size 1080x360 with 1 Axes>"
      ]
     },
     "metadata": {
      "needs_background": "light"
     },
     "output_type": "display_data"
    }
   ],
   "source": [
    "tweet_by_class_test = train.groupby(\"polaridad\", as_index=False)['text'].count()\n",
    "\n",
    "plt.figure(figsize=(15,5))\n",
    "sns.barplot(tweet_by_class_test['polaridad'].values, tweet_by_class_test['text'].values, alpha=0.8)\n",
    "plt.title('Class Frequency by tweet for test')\n",
    "plt.ylabel('text', fontsize=10)\n",
    "plt.xlabel('polaridad', fontsize=10)\n",
    "plt.show()"
   ]
  },
  {
   "cell_type": "markdown",
   "id": "f342cca4",
   "metadata": {},
   "source": [
    "## Limpieza del corpus"
   ]
  },
  {
   "cell_type": "code",
   "execution_count": 1503,
   "id": "d6d871f1",
   "metadata": {},
   "outputs": [
    {
     "data": {
      "text/plain": [
       "(80, 80)"
      ]
     },
     "execution_count": 1503,
     "metadata": {},
     "output_type": "execute_result"
    }
   ],
   "source": [
    "#Limpieza de tweets de prueba\n",
    "x_test = [tp.transformer(row, True) for row in test['text'].tolist()]\n",
    "y_test = test[\"polaridad\"]\n",
    "len(x_test), len(y_test)"
   ]
  },
  {
   "cell_type": "code",
   "execution_count": 1504,
   "id": "397514a7",
   "metadata": {},
   "outputs": [
    {
     "data": {
      "text/plain": [
       "(320, 320)"
      ]
     },
     "execution_count": 1504,
     "metadata": {},
     "output_type": "execute_result"
    }
   ],
   "source": [
    "#Limpieza de tweets de entrenamiento\n",
    "x_train = [tp.transformer(row, True) for row in train['text'].tolist()]\n",
    "y_train = train[\"polaridad\"]\n",
    "len(x_train), len(y_train)"
   ]
  },
  {
   "cell_type": "markdown",
   "id": "5ed10f91",
   "metadata": {},
   "source": [
    "## Tecnicas de extraccion de caracteristicas"
   ]
  },
  {
   "cell_type": "code",
   "execution_count": 1506,
   "id": "861c9102",
   "metadata": {},
   "outputs": [],
   "source": [
    "#TF-IDF\n",
    "tfIdfVectorizer=TfidfVectorizer(ngram_range=(1,3), min_df=10, max_df = 0.9)\n",
    "\n",
    "#Bow of n-gram\n",
    "bow = CountVectorizer(analyzer='word', ngram_range=(1, 1), min_df=10, max_df = 0.9)"
   ]
  },
  {
   "cell_type": "markdown",
   "id": "195c156e",
   "metadata": {},
   "source": [
    "## Union de caracteristicas"
   ]
  },
  {
   "cell_type": "code",
   "execution_count": 1507,
   "id": "3d38c73a",
   "metadata": {},
   "outputs": [
    {
     "data": {
      "text/plain": [
       "FeatureUnion(transformer_list=[('tfidf_vector',\n",
       "                                TfidfVectorizer(max_df=0.9, min_df=10,\n",
       "                                                ngram_range=(1, 3))),\n",
       "                               ('bow', CountVectorizer(max_df=0.9, min_df=10))])"
      ]
     },
     "execution_count": 1507,
     "metadata": {},
     "output_type": "execute_result"
    }
   ],
   "source": [
    "preprocessor = FeatureUnion([\n",
    "    ('tfidf_vector', tfIdfVectorizer),\n",
    "    ('bow', bow)\n",
    "    \n",
    "])\n",
    "\n",
    "preprocessor.fit(x_train)"
   ]
  },
  {
   "cell_type": "code",
   "execution_count": 1508,
   "id": "c1eb1048",
   "metadata": {},
   "outputs": [],
   "source": [
    "x_train = preprocessor.transform(x_train)\n",
    "x_test = preprocessor.transform(x_test)"
   ]
  },
  {
   "cell_type": "code",
   "execution_count": 1509,
   "id": "97e8a1e9",
   "metadata": {},
   "outputs": [
    {
     "data": {
      "text/plain": [
       "<320x45 sparse matrix of type '<class 'numpy.float64'>'\n",
       "\twith 1454 stored elements in Compressed Sparse Row format>"
      ]
     },
     "execution_count": 1509,
     "metadata": {},
     "output_type": "execute_result"
    }
   ],
   "source": [
    "x_train"
   ]
  },
  {
   "cell_type": "code",
   "execution_count": 1510,
   "id": "33ba52fb",
   "metadata": {},
   "outputs": [
    {
     "data": {
      "text/plain": [
       "<80x45 sparse matrix of type '<class 'numpy.float64'>'\n",
       "\twith 321 stored elements in Compressed Sparse Row format>"
      ]
     },
     "execution_count": 1510,
     "metadata": {},
     "output_type": "execute_result"
    }
   ],
   "source": [
    "x_test"
   ]
  },
  {
   "cell_type": "markdown",
   "id": "968a26c7",
   "metadata": {},
   "source": [
    "# Modelos"
   ]
  },
  {
   "cell_type": "markdown",
   "id": "1a19fd49",
   "metadata": {},
   "source": [
    "## Definicion de los modelos"
   ]
  },
  {
   "cell_type": "code",
   "execution_count": 1511,
   "id": "b5b556f4",
   "metadata": {},
   "outputs": [],
   "source": [
    "ML_models = {}\n",
    "# Indice - nombre\n",
    "model_index = ['LR','SVM']\n",
    "# Arranque inicial de los modelos con parametros\n",
    "model_sklearn = [LogisticRegression(solver='liblinear'),\n",
    "                 svm.SVC(kernel='linear', C=1, probability=True)]"
   ]
  },
  {
   "cell_type": "markdown",
   "id": "58c57637",
   "metadata": {},
   "source": [
    "## Entrenamiento de los modelos"
   ]
  },
  {
   "cell_type": "code",
   "execution_count": 1512,
   "id": "35628787",
   "metadata": {},
   "outputs": [
    {
     "name": "stdout",
     "output_type": "stream",
     "text": [
      "{'LR': LogisticRegression(solver='liblinear'), 'SVM': SVC(C=1, kernel='linear', probability=True)}\n"
     ]
    }
   ],
   "source": [
    "# Entrenamiento\n",
    "for name,model in zip(model_index,model_sklearn):\n",
    "    # Entrenamiento del modelo (Fit)\n",
    "    ML_models[name] = model.fit(x_train,y_train)\n",
    "print(ML_models)"
   ]
  },
  {
   "cell_type": "markdown",
   "id": "7fc528e0",
   "metadata": {},
   "source": [
    "# Metricas"
   ]
  },
  {
   "cell_type": "markdown",
   "id": "5a28d7b3",
   "metadata": {},
   "source": [
    "## Evaluacion general de los modelos a traves del score"
   ]
  },
  {
   "cell_type": "code",
   "execution_count": 1513,
   "id": "f79beeaf",
   "metadata": {},
   "outputs": [
    {
     "name": "stdout",
     "output_type": "stream",
     "text": [
      "LR\n",
      "Desempeño básico: 0.6875\n",
      "\n",
      "SVM\n",
      "Desempeño básico: 0.7\n",
      "\n"
     ]
    }
   ],
   "source": [
    "# Evaluación de resultados y metricas\n",
    "model_summary = []\n",
    "for name,model in zip(model_index,model_sklearn):\n",
    "    # Predicción con el conjunto de datos de prueba\n",
    "    preds = model.predict(x_test)\n",
    "    # Desempeño básico\n",
    "    print(name)\n",
    "    print('Desempeño básico: '+str(model.score(x_test,y_test))+'\\n')\n",
    "    # Resultados guardados\n",
    "    fpr, tpr, thresholds = roc_curve(y_test,model.predict_proba(x_test)[:,1])\n",
    "    model_summary.append([name,\n",
    "                          confusion_matrix(y_test,preds),classification_report(y_test,preds),\n",
    "                          accuracy_score(y_test,preds),\n",
    "                          f1_score(y_test,preds,average='weighted'),\n",
    "                          {'roc':roc_auc_score(y_test,model.predict_proba(x_test)[:,1]),'fpr':fpr, 'tpr':tpr, 'thresholds':thresholds}])"
   ]
  },
  {
   "cell_type": "markdown",
   "id": "8cf94d14",
   "metadata": {},
   "source": [
    "## Matriz de confusion"
   ]
  },
  {
   "cell_type": "code",
   "execution_count": 1514,
   "id": "a512e6b8",
   "metadata": {},
   "outputs": [],
   "source": [
    "def show_info_confusion_matrix(conf_matrix, title):\n",
    "    plt.figure(figsize=(4, 4))\n",
    "    sns.heatmap(conf_matrix, xticklabels=[\"Positivo (1)\",\"Negativo (0)\"], yticklabels=[\"Positivo (1)\",\"Negativo (0)\"], annot=True, fmt=\"d\");\n",
    "    plt.title(\"Matriz de confusión para \" + title.upper())\n",
    "    plt.ylabel('Observación')\n",
    "    plt.xlabel('Predicción')\n",
    "    plt.show()"
   ]
  },
  {
   "cell_type": "code",
   "execution_count": 1515,
   "id": "42ed9572",
   "metadata": {},
   "outputs": [
    {
     "name": "stdout",
     "output_type": "stream",
     "text": [
      "LR\n"
     ]
    },
    {
     "data": {
      "image/png": "[encoded data removed]",
      "text/plain": [
       "<Figure size 288x288 with 2 Axes>"
      ]
     },
     "metadata": {
      "needs_background": "light"
     },
     "output_type": "display_data"
    },
    {
     "name": "stdout",
     "output_type": "stream",
     "text": [
      "SVM\n"
     ]
    },
    {
     "data": {
      "image/png": "[encoded data removed]",
      "text/plain": [
       "<Figure size 288x288 with 2 Axes>"
      ]
     },
     "metadata": {
      "needs_background": "light"
     },
     "output_type": "display_data"
    }
   ],
   "source": [
    "for model in model_summary:\n",
    "    print(model[0])\n",
    "    show_info_confusion_matrix(model[1], model[0])"
   ]
  },
  {
   "cell_type": "markdown",
   "id": "91c4418f",
   "metadata": {},
   "source": [
    "## Reporte de clasificacion"
   ]
  },
  {
   "cell_type": "code",
   "execution_count": 1516,
   "id": "3aa7e190",
   "metadata": {},
   "outputs": [
    {
     "name": "stdout",
     "output_type": "stream",
     "text": [
      "LR\n",
      "Accuracy: 0.6875\n",
      "F1-Score: 0.6862745098039216\n",
      "              precision    recall  f1-score   support\n",
      "\n",
      "           0       0.67      0.75      0.71        40\n",
      "           1       0.71      0.62      0.67        40\n",
      "\n",
      "    accuracy                           0.69        80\n",
      "   macro avg       0.69      0.69      0.69        80\n",
      "weighted avg       0.69      0.69      0.69        80\n",
      "\n",
      "SVM\n",
      "Accuracy: 0.7\n",
      "F1-Score: 0.6992481203007519\n",
      "              precision    recall  f1-score   support\n",
      "\n",
      "           0       0.68      0.75      0.71        40\n",
      "           1       0.72      0.65      0.68        40\n",
      "\n",
      "    accuracy                           0.70        80\n",
      "   macro avg       0.70      0.70      0.70        80\n",
      "weighted avg       0.70      0.70      0.70        80\n",
      "\n"
     ]
    }
   ],
   "source": [
    "for model in model_summary:\n",
    "    print(model[0])\n",
    "    print('Accuracy: '+str(model[3]))\n",
    "    print('F1-Score: '+str(model[4]))\n",
    "    print(model[2])"
   ]
  }
 ],
 "metadata": {
  "kernelspec": {
   "display_name": "Python 3",
   "language": "python",
   "name": "python3"
  },
  "language_info": {
   "codemirror_mode": {
    "name": "ipython",
    "version": 3
   },
   "file_extension": ".py",
   "mimetype": "text/x-python",
   "name": "python",
   "nbconvert_exporter": "python",
   "pygments_lexer": "ipython3",
   "version": "3.8.8"
  }
 },
 "nbformat": 4,
 "nbformat_minor": 5
}
